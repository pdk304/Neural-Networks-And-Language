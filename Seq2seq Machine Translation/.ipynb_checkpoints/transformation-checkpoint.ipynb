{
 "cells": [
  {
   "cell_type": "markdown",
   "metadata": {},
   "source": [
    "## Sequence to Sequence Models\n",
    "LING 380/780 -- Neural Network Models of Linguistic Structure\n"
   ]
  },
  {
   "cell_type": "markdown",
   "metadata": {},
   "source": [
    "Start by loading the necessary pytorch packages, along with the seq2seq model defintion and training code."
   ]
  },
  {
   "cell_type": "code",
   "execution_count": 1,
   "metadata": {},
   "outputs": [],
   "source": [
    "import torch.nn as nn\n",
    "import torch.optim as optim\n",
    "import torch\n",
    "import model\n",
    "import train"
   ]
  },
  {
   "cell_type": "markdown",
   "metadata": {},
   "source": [
    "Next, load the functions that will create and load the synthetic datasets using PCFGs defined in *grammars.py*."
   ]
  },
  {
   "cell_type": "code",
   "execution_count": 2,
   "metadata": {},
   "outputs": [],
   "source": [
    "from generator import create_file\n",
    "from data_prep import load_and_prepare_dataset\n",
    "\n",
    "from grammars import pcfg_agreement_pp, pcfg_agreement_pp_ambig, pcfg_agreement_pp_unambig\n",
    "from grammars import gen_reinflection_example, gen_pres_reinflection_example"
   ]
  },
  {
   "cell_type": "markdown",
   "metadata": {},
   "source": [
    "Use these functions to generate datasets (which will be stored in the *data* and *cache* subdirectories), and then use *load_and_prepare_dataset* to create training, validation and testing sets, along with text objects for the source (input) and target (output), which will be used for their vocabulary objects."
   ]
  },
  {
   "cell_type": "code",
   "execution_count": 3,
   "metadata": {},
   "outputs": [
    {
     "name": "stdout",
     "output_type": "stream",
     "text": [
      "Size of SRC vocabulary: 41\n",
      "Size of TRG vocabulary: 51\n"
     ]
    }
   ],
   "source": [
    "create_file('reinflection_pp',pcfg_agreement_pp_ambig,gen_reinflection_example,5000)\n",
    "create_file('reinflection_pp_test',pcfg_agreement_pp_unambig,gen_pres_reinflection_example,100)\n",
    "\n",
    "train_iter, val_iter, test_iter, src_text, trg_text = load_and_prepare_dataset('reinflection_pp', 5)"
   ]
  },
  {
   "cell_type": "markdown",
   "metadata": {},
   "source": [
    "Set some hyperparameters and create the loss, the network and optimizer objects."
   ]
  },
  {
   "cell_type": "code",
   "execution_count": 4,
   "metadata": {},
   "outputs": [],
   "source": [
    "EMBEDDING_SIZE = 128\n",
    "HIDDEN_SIZE = 128\n",
    "ATTENTION = 'Null'\n",
    "\n",
    "PAD_IDX = trg_text.vocab.stoi['<pad>']\n",
    "\n",
    "criterion = nn.CrossEntropyLoss(ignore_index=PAD_IDX)\n",
    "net = model.Seq2Seq(src_text, EMBEDDING_SIZE, HIDDEN_SIZE, trg_text, attention=ATTENTION)\n",
    "optimizer = optim.Adam(net.parameters())"
   ]
  },
  {
   "cell_type": "markdown",
   "metadata": {},
   "source": [
    "Define the set of words that will be used to compute accuracy (if the value of the *eval_words* argument of *train* is not specified, accuracy will be computed for all words in the target).  Here, since we are interested in assessing accuracy in inflecting verbs, we consider only present tense verbs, in both singular and plural forms."
   ]
  },
  {
   "cell_type": "code",
   "execution_count": 5,
   "metadata": {},
   "outputs": [],
   "source": [
    "eval_verbs = ['laughs','dances','hopes','burps', 'coughs', 'dies', 'laugh', 'dance', 'hope', 'burp', 'cough', 'die']"
   ]
  },
  {
   "cell_type": "markdown",
   "metadata": {},
   "source": [
    "Train the network."
   ]
  },
  {
   "cell_type": "code",
   "execution_count": 6,
   "metadata": {},
   "outputs": [
    {
     "name": "stdout",
     "output_type": "stream",
     "text": [
      "Epoch: 01 | Time: 0m 15s\n",
      "\tTrain Loss: 19.023 | Train PPL: 1.826E+08\n",
      "\t Val. Loss: 8.071 |  Val. PPL: 3.200E+03\n",
      "\t Val. Accuracy: 57.364\n",
      "Epoch: 02 | Time: 0m 15s\n",
      "\tTrain Loss: 10.918 | Train PPL: 5.518E+04\n",
      "\t Val. Loss: 4.721 |  Val. PPL: 1.123E+02\n",
      "\t Val. Accuracy: 81.008\n",
      "Epoch: 03 | Time: 0m 15s\n",
      "\tTrain Loss: 7.850 | Train PPL: 2.566E+03\n",
      "\t Val. Loss: 4.137 |  Val. PPL: 6.263E+01\n",
      "\t Val. Accuracy: 85.271\n",
      "Epoch: 04 | Time: 0m 15s\n",
      "\tTrain Loss: 6.043 | Train PPL: 4.211E+02\n",
      "\t Val. Loss: 3.273 |  Val. PPL: 2.640E+01\n",
      "\t Val. Accuracy: 90.504\n",
      "Epoch: 05 | Time: 0m 15s\n",
      "\tTrain Loss: 5.413 | Train PPL: 2.242E+02\n",
      "\t Val. Loss: 3.058 |  Val. PPL: 2.128E+01\n",
      "\t Val. Accuracy: 89.922\n",
      "Epoch: 06 | Time: 0m 15s\n",
      "\tTrain Loss: 4.933 | Train PPL: 1.388E+02\n",
      "\t Val. Loss: 2.815 |  Val. PPL: 1.669E+01\n",
      "\t Val. Accuracy: 91.667\n",
      "Epoch: 07 | Time: 0m 15s\n",
      "\tTrain Loss: 4.318 | Train PPL: 7.507E+01\n",
      "\t Val. Loss: 2.588 |  Val. PPL: 1.330E+01\n",
      "\t Val. Accuracy: 94.186\n",
      "Epoch: 08 | Time: 0m 15s\n",
      "\tTrain Loss: 4.390 | Train PPL: 8.063E+01\n",
      "\t Val. Loss: 2.435 |  Val. PPL: 1.141E+01\n",
      "\t Val. Accuracy: 94.574\n",
      "Epoch: 09 | Time: 0m 15s\n",
      "\tTrain Loss: 3.894 | Train PPL: 4.908E+01\n",
      "\t Val. Loss: 2.197 |  Val. PPL: 9.002E+00\n",
      "\t Val. Accuracy: 94.767\n",
      "Epoch: 10 | Time: 0m 15s\n",
      "\tTrain Loss: 4.055 | Train PPL: 5.766E+01\n",
      "\t Val. Loss: 2.139 |  Val. PPL: 8.492E+00\n",
      "\t Val. Accuracy: 92.442\n",
      "| Test Loss: 13.262 | Test PPL: 5.749E+05 |\n",
      "| Test Accuracy: 27.000\n"
     ]
    }
   ],
   "source": [
    "N_EPOCHS = 10\n",
    "train.train(net, train_iter, val_iter, test_iter, optimizer, criterion, short_train=False, n_epochs=N_EPOCHS, eval_words = eval_verbs, patience=3)"
   ]
  },
  {
   "cell_type": "markdown",
   "metadata": {},
   "source": [
    "Load evaluation functions that provide an interface for the translating sentences and batches, and plotting a heatmap for attention weights for each word in an output.  "
   ]
  },
  {
   "cell_type": "code",
   "execution_count": 7,
   "metadata": {},
   "outputs": [],
   "source": [
    "from eval import translate_batch, translate, plot_from_batch, plot "
   ]
  },
  {
   "cell_type": "markdown",
   "metadata": {},
   "source": [
    "Try translating some sentences..."
   ]
  },
  {
   "cell_type": "code",
   "execution_count": 12,
   "metadata": {},
   "outputs": [
    {
     "name": "stdout",
     "output_type": "stream",
     "text": [
      "the gentle badger coughed -> the gentle badger coughs\n"
     ]
    }
   ],
   "source": [
    "translate(net, 'the gentle badger coughed', 'pres' )"
   ]
  },
  {
   "cell_type": "code",
   "execution_count": 9,
   "metadata": {},
   "outputs": [
    {
     "name": "stdout",
     "output_type": "stream",
     "text": [
      "the gentle badger coughed -> the gentle badger coughed\n"
     ]
    }
   ],
   "source": [
    "translate(net, 'the gentle badger coughed', 'past' )"
   ]
  },
  {
   "cell_type": "code",
   "execution_count": 16,
   "metadata": {},
   "outputs": [
    {
     "name": "stdout",
     "output_type": "stream",
     "text": [
      "near the dogs a badger coughed -> near the dogs a badger coughs\n"
     ]
    }
   ],
   "source": [
    "translate(net, 'near the dogs a badger coughed', 'pres')"
   ]
  },
  {
   "cell_type": "code",
   "execution_count": 15,
   "metadata": {},
   "outputs": [
    {
     "name": "stdout",
     "output_type": "stream",
     "text": [
      "with the gentle kindly dogs the humble badger danced -> with the humble gentle humble dogs danced danced\n"
     ]
    },
    {
     "data": {
      "image/png": "[encoded data removed]",
      "text/plain": [
       "<Figure size 1080x1080 with 2 Axes>"
      ]
     },
     "metadata": {
      "needs_background": "light"
     },
     "output_type": "display_data"
    }
   ],
   "source": [
    "translate(net, 'with the gentle kindly dogs the humble badger danced', 'past')\n",
    "plot(net, 'with the gentle kindly dogs the humble badger danced', 'pres')"
   ]
  },
  {
   "cell_type": "markdown",
   "metadata": {},
   "source": [
    "Load a test batch with a given target length to be used for testing"
   ]
  },
  {
   "cell_type": "code",
   "execution_count": null,
   "metadata": {},
   "outputs": [],
   "source": [
    "desired_target_length = 10\n",
    "\n",
    "for i in test_iter:\n",
    "    if i.trg.shape[0]==desired_target_length:\n",
    "        sample_test_batch = i\n",
    "        continue\n",
    "\n",
    "print(sample_test_batch)"
   ]
  },
  {
   "cell_type": "code",
   "execution_count": null,
   "metadata": {},
   "outputs": [],
   "source": [
    "translate_batch(net, sample_test_batch)"
   ]
  },
  {
   "cell_type": "code",
   "execution_count": null,
   "metadata": {},
   "outputs": [],
   "source": [
    "plot_from_batch(net, sample_test_batch, 0) "
   ]
  }
 ],
 "metadata": {
  "kernelspec": {
   "display_name": "Python 3",
   "language": "python",
   "name": "python3"
  },
  "language_info": {
   "codemirror_mode": {
    "name": "ipython",
    "version": 3
   },
   "file_extension": ".py",
   "mimetype": "text/x-python",
   "name": "python",
   "nbconvert_exporter": "python",
   "pygments_lexer": "ipython3",
   "version": "3.7.4"
  }
 },
 "nbformat": 4,
 "nbformat_minor": 2
}
